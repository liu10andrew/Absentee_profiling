{
 "cells": [
  {
   "cell_type": "code",
   "execution_count": 3,
   "metadata": {},
   "outputs": [],
   "source": [
    "import pandas as pd\n",
    "import csv\n",
    "from collections import Counter"
   ]
  },
  {
   "cell_type": "code",
   "execution_count": 4,
   "metadata": {},
   "outputs": [],
   "source": [
    "test_df=pd.read_csv('data/dota2Test.csv',header=None)"
   ]
  },
  {
   "cell_type": "code",
   "execution_count": 5,
   "metadata": {},
   "outputs": [],
   "source": [
    "train_df=pd.read_csv('data/dota2Train.csv',header=None)"
   ]
  },
  {
   "cell_type": "code",
   "execution_count": 6,
   "metadata": {},
   "outputs": [
    {
     "name": "stdout",
     "output_type": "stream",
     "text": [
      "   winner  ClusterID  game_mode  game_type  hero0  hero1  hero2  hero3  hero4  \\\n",
      "0      -1        223          2          2      0      0      0      0      0   \n",
      "1       1        152          2          2      0      0      0      1      0   \n",
      "2       1        131          2          2      0      0      0      1      0   \n",
      "3       1        154          2          2      0      0      0      0      0   \n",
      "4      -1        171          2          3      0      0      0      0      0   \n",
      "\n",
      "   hero5   ...     hero103  hero104  hero105  hero106  hero107  hero108  \\\n",
      "0      0   ...           0        0        0        0        0        0   \n",
      "1     -1   ...           0        0        0        0        0        0   \n",
      "2     -1   ...           0        0        0        0        0        0   \n",
      "3      0   ...          -1        0        0        0        0        0   \n",
      "4     -1   ...           0        0        0        0        0        0   \n",
      "\n",
      "   hero109  hero110  hero111  hero112  \n",
      "0        0        0        0        0  \n",
      "1        0        0        0        0  \n",
      "2        0        0        0        0  \n",
      "3        0        0        0        0  \n",
      "4        0        0        0        0  \n",
      "\n",
      "[5 rows x 117 columns]\n"
     ]
    }
   ],
   "source": [
    "#rename columns\n",
    "\n",
    "first_four=['winner','ClusterID', \"game_mode\",'game_type'] #oclumns 0 through 3\n",
    "\n",
    "hero_ids = [x for x in range(113)]\n",
    "hero_names = []\n",
    "\n",
    "for ent in hero_ids:\n",
    "    name = 'hero'+str(ent)\n",
    "    hero_names.append(name)\n",
    "    \n",
    "renamed_cols = first_four + hero_names\n",
    "\n",
    "train_df.columns=renamed_cols\n",
    "\n",
    "print(train_df.head())\n"
   ]
  },
  {
   "cell_type": "code",
   "execution_count": 18,
   "metadata": {},
   "outputs": [
    {
     "data": {
      "text/plain": [
       "92650"
      ]
     },
     "execution_count": 18,
     "metadata": {},
     "output_type": "execute_result"
    }
   ],
   "source": [
    "#pick rate data\n",
    "\n",
    "total_games_played = train_df.shape[0] # number of rows = number of games\n",
    "\n",
    "games_played = train_df[train_df != 0 ].count()\n",
    "\n",
    "games_played = games_played[4:] #slicing\n",
    "\n",
    "\n",
    "#plot \n",
    "\n",
    "\n"
   ]
  },
  {
   "cell_type": "code",
   "execution_count": null,
   "metadata": {},
   "outputs": [],
   "source": []
  },
  {
   "cell_type": "code",
   "execution_count": 25,
   "metadata": {},
   "outputs": [
    {
     "name": "stdout",
     "output_type": "stream",
     "text": [
      "winner       6992\n",
      "ClusterID    6992\n",
      "game_mode    6992\n",
      "game_type    6992\n",
      "hero0        6992\n",
      "hero1        6992\n",
      "hero2        6992\n",
      "hero3        6992\n",
      "hero4        6992\n",
      "hero5        6992\n",
      "hero6        6992\n",
      "hero7        6992\n",
      "hero8        6992\n",
      "hero9        6992\n",
      "hero10       6992\n",
      "hero11       6992\n",
      "hero12       6992\n",
      "hero13       6992\n",
      "hero14       6992\n",
      "hero15       6992\n",
      "hero16       6992\n",
      "hero17       6992\n",
      "hero18       6992\n",
      "hero19       6992\n",
      "hero20       6992\n",
      "hero21       6992\n",
      "hero22       6992\n",
      "hero23       6992\n",
      "hero24       6992\n",
      "hero25       6992\n",
      "             ... \n",
      "hero83       6992\n",
      "hero84       6992\n",
      "hero85       6992\n",
      "hero86       6992\n",
      "hero87       6992\n",
      "hero88       6992\n",
      "hero89       6992\n",
      "hero90       6992\n",
      "hero91       6992\n",
      "hero92       6992\n",
      "hero93       6992\n",
      "hero94       6992\n",
      "hero95       6992\n",
      "hero96       6992\n",
      "hero97       6992\n",
      "hero98       6992\n",
      "hero99       6992\n",
      "hero100      6992\n",
      "hero101      6992\n",
      "hero102      6992\n",
      "hero103      6992\n",
      "hero104      6992\n",
      "hero105      6992\n",
      "hero106      6992\n",
      "hero107      6992\n",
      "hero108      6992\n",
      "hero109      6992\n",
      "hero110      6992\n",
      "hero111      6992\n",
      "hero112      6992\n",
      "Length: 117, dtype: int64\n"
     ]
    }
   ],
   "source": [
    "#get each hero win, loss count\n",
    "#create a dictionary, whose keys are each of the heroes. each hero key gets mapped to a Counter(?) dict \n",
    "#that keeps count of of wins, losses \n",
    "games_won=[]\n",
    "print(train_df.loc[train_df['hero0'] == train_df.winner].count())"
   ]
  },
  {
   "cell_type": "code",
   "execution_count": null,
   "metadata": {},
   "outputs": [],
   "source": [
    "#predict win rate based on ????, validate using training data"
   ]
  }
 ],
 "metadata": {
  "kernelspec": {
   "display_name": "Python 3",
   "language": "python",
   "name": "python3"
  },
  "language_info": {
   "codemirror_mode": {
    "name": "ipython",
    "version": 3
   },
   "file_extension": ".py",
   "mimetype": "text/x-python",
   "name": "python",
   "nbconvert_exporter": "python",
   "pygments_lexer": "ipython3",
   "version": "3.6.5"
  }
 },
 "nbformat": 4,
 "nbformat_minor": 2
}
